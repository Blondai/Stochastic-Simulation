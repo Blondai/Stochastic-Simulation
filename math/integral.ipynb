{
 "cells": [
  {
   "cell_type": "code",
   "execution_count": 1,
   "id": "50c3a2ac-ce07-4216-9c97-31e4360489a9",
   "metadata": {},
   "outputs": [],
   "source": [
    "import sympy as sym"
   ]
  },
  {
   "cell_type": "code",
   "execution_count": 2,
   "id": "1d22d901-f9de-46ac-b6bb-3f06b7e2ea59",
   "metadata": {},
   "outputs": [],
   "source": [
    "x_0, x_1 = sym.symbols(\"x_0, x_1\", real=True)\n",
    "y_0, y_1 = sym.symbols(\"y_0, y_1\", real=True)\n",
    "x, y = sym.symbols(\"x, y\", real=True)"
   ]
  },
  {
   "cell_type": "code",
   "execution_count": 4,
   "id": "5bfb8854-9833-42c8-9791-2f010031e653",
   "metadata": {},
   "outputs": [],
   "source": [
    "m = (y_1 - y_0) / (x_1 - x_0)"
   ]
  },
  {
   "cell_type": "code",
   "execution_count": 5,
   "id": "a86a88be-b043-4323-95a0-bc4cc39fffe3",
   "metadata": {},
   "outputs": [
    {
     "data": {
      "text/latex": [
       "$\\displaystyle y_{0} + \\frac{\\left(x - x_{0}\\right) \\left(- y_{0} + y_{1}\\right)}{- x_{0} + x_{1}}$"
      ],
      "text/plain": [
       "y_0 + (x - x_0)*(-y_0 + y_1)/(-x_0 + x_1)"
      ]
     },
     "execution_count": 5,
     "metadata": {},
     "output_type": "execute_result"
    }
   ],
   "source": [
    "line1 = m * (x - x_0) + y_0\n",
    "line1"
   ]
  },
  {
   "cell_type": "code",
   "execution_count": 9,
   "id": "f9080800-cd94-47c0-abdd-78457a4bbf50",
   "metadata": {},
   "outputs": [
    {
     "data": {
      "text/latex": [
       "$\\displaystyle - \\frac{x_{0} y_{0}}{2} - \\frac{x_{0} y_{1}}{2} + \\frac{x_{1} y_{0}}{2} + \\frac{x_{1} y_{1}}{2}$"
      ],
      "text/plain": [
       "-x_0*y_0/2 - x_0*y_1/2 + x_1*y_0/2 + x_1*y_1/2"
      ]
     },
     "execution_count": 9,
     "metadata": {},
     "output_type": "execute_result"
    }
   ],
   "source": [
    "# By SymPy\n",
    "integral1 = sym.integrate(line1, (x, x_0, x_1)).simplify()\n",
    "integral1"
   ]
  },
  {
   "cell_type": "code",
   "execution_count": 12,
   "id": "e3d96c6e-cc14-4cea-bd3f-e6312c494f76",
   "metadata": {},
   "outputs": [
    {
     "data": {
      "text/latex": [
       "$\\displaystyle \\left(- x_{0} + x_{1}\\right) \\left(- \\frac{x_{0} \\left(- y_{0} + y_{1}\\right)}{- x_{0} + x_{1}} + y_{0}\\right) + \\frac{\\left(- x_{0}^{2} + x_{1}^{2}\\right) \\left(- y_{0} + y_{1}\\right)}{2 \\left(- x_{0} + x_{1}\\right)}$"
      ],
      "text/plain": [
       "(-x_0 + x_1)*(-x_0*(-y_0 + y_1)/(-x_0 + x_1) + y_0) + (-x_0**2 + x_1**2)*(-y_0 + y_1)/(2*(-x_0 + x_1))"
      ]
     },
     "execution_count": 12,
     "metadata": {},
     "output_type": "execute_result"
    }
   ],
   "source": [
    "# By Hand\n",
    "integral2 = sym.Rational(1, 2) * m * (x_1**2 - x_0**2) + (- m * x_0 + y_0) * (x_1 - x_0)\n",
    "integral2"
   ]
  },
  {
   "cell_type": "code",
   "execution_count": 13,
   "id": "3c89aeb5-192b-4eed-9874-836a3ee29384",
   "metadata": {},
   "outputs": [
    {
     "data": {
      "text/latex": [
       "$\\displaystyle 0$"
      ],
      "text/plain": [
       "0"
      ]
     },
     "execution_count": 13,
     "metadata": {},
     "output_type": "execute_result"
    }
   ],
   "source": [
    "sym.simplify(integral1 - integral2)"
   ]
  },
  {
   "cell_type": "code",
   "execution_count": 14,
   "id": "66766682-4d2d-46fe-a21b-d734bd20c360",
   "metadata": {},
   "outputs": [
    {
     "data": {
      "text/latex": [
       "$\\displaystyle - \\frac{x_{0} y_{0}}{2} - \\frac{x_{0} y_{1}}{2} + \\frac{x_{1} y_{0}}{2} + \\frac{x_{1} y_{1}}{2}$"
      ],
      "text/plain": [
       "-x_0*y_0/2 - x_0*y_1/2 + x_1*y_0/2 + x_1*y_1/2"
      ]
     },
     "execution_count": 14,
     "metadata": {},
     "output_type": "execute_result"
    }
   ],
   "source": [
    "# We use\n",
    "sym.Rational(1, 2) * (- x_0 * y_0 - x_0 * y_1 + x_1 * y_0 + x_1 * y_1)"
   ]
  }
 ],
 "metadata": {
  "kernelspec": {
   "display_name": "Python 3 (ipykernel)",
   "language": "python",
   "name": "python3"
  },
  "language_info": {
   "codemirror_mode": {
    "name": "ipython",
    "version": 3
   },
   "file_extension": ".py",
   "mimetype": "text/x-python",
   "name": "python",
   "nbconvert_exporter": "python",
   "pygments_lexer": "ipython3",
   "version": "3.10.11"
  }
 },
 "nbformat": 4,
 "nbformat_minor": 5
}
