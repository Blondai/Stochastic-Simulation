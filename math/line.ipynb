{
 "cells": [
  {
   "cell_type": "code",
   "execution_count": 2,
   "id": "067be9e3-a46b-4ee2-9c72-7a6f279dd432",
   "metadata": {},
   "outputs": [],
   "source": [
    "import sympy as sym"
   ]
  },
  {
   "cell_type": "code",
   "execution_count": 3,
   "id": "42fb78cd-7622-47d0-bdca-f7aa9bed751b",
   "metadata": {},
   "outputs": [],
   "source": [
    "x_0, x_1 = sym.symbols(\"x_0, x_1\", real=True)\n",
    "y_0, y_1 = sym.symbols(\"y_0, y_1\", real=True)\n",
    "x, y = sym.symbols(\"x, y\", real=True)"
   ]
  },
  {
   "cell_type": "code",
   "execution_count": 4,
   "id": "010b2127-b65d-49ab-bce7-053a957296e2",
   "metadata": {},
   "outputs": [
    {
     "data": {
      "text/latex": [
       "$\\displaystyle \\frac{- y_{0} + y_{1}}{- x_{0} + x_{1}}$"
      ],
      "text/plain": [
       "(-y_0 + y_1)/(-x_0 + x_1)"
      ]
     },
     "execution_count": 4,
     "metadata": {},
     "output_type": "execute_result"
    }
   ],
   "source": [
    "m = (y_1 - y_0) / (x_1 - x_0)\n",
    "m"
   ]
  },
  {
   "cell_type": "code",
   "execution_count": 6,
   "id": "560c6432-bd03-45ac-8304-34fb4bdfdc3e",
   "metadata": {},
   "outputs": [],
   "source": [
    "c = sym.Symbol('c', real=True)"
   ]
  },
  {
   "cell_type": "code",
   "execution_count": 7,
   "id": "cf5f641f-07dd-4341-a631-dbd3388eafdb",
   "metadata": {},
   "outputs": [
    {
     "data": {
      "text/latex": [
       "$\\displaystyle c + \\frac{x_{0} \\left(- y_{0} + y_{1}\\right)}{- x_{0} + x_{1}} = y_{0}$"
      ],
      "text/plain": [
       "Eq(c + x_0*(-y_0 + y_1)/(-x_0 + x_1), y_0)"
      ]
     },
     "execution_count": 7,
     "metadata": {},
     "output_type": "execute_result"
    }
   ],
   "source": [
    "eq = sym.Eq(m * x_0 + c, y_0)\n",
    "eq"
   ]
  },
  {
   "cell_type": "code",
   "execution_count": 10,
   "id": "0100e8bf-936f-4506-8676-a8a1bc98697f",
   "metadata": {},
   "outputs": [
    {
     "data": {
      "text/latex": [
       "$\\displaystyle \\frac{x_{0} y_{1} - x_{1} y_{0}}{x_{0} - x_{1}}$"
      ],
      "text/plain": [
       "(x_0*y_1 - x_1*y_0)/(x_0 - x_1)"
      ]
     },
     "execution_count": 10,
     "metadata": {},
     "output_type": "execute_result"
    }
   ],
   "source": [
    "c = sym.solve(eq, c)[0]\n",
    "c"
   ]
  },
  {
   "cell_type": "code",
   "execution_count": 21,
   "id": "ef2509dd-d195-42f9-8710-471d11015594",
   "metadata": {},
   "outputs": [
    {
     "data": {
      "text/latex": [
       "$\\displaystyle \\frac{x \\left(- y_{0} + y_{1}\\right)}{- x_{0} + x_{1}} + \\frac{x_{0} y_{1} - x_{1} y_{0}}{x_{0} - x_{1}}$"
      ],
      "text/plain": [
       "x*(-y_0 + y_1)/(-x_0 + x_1) + (x_0*y_1 - x_1*y_0)/(x_0 - x_1)"
      ]
     },
     "execution_count": 21,
     "metadata": {},
     "output_type": "execute_result"
    }
   ],
   "source": [
    "# By SymPy\n",
    "line0 = m * x + c.simplify()\n",
    "line0"
   ]
  },
  {
   "cell_type": "code",
   "execution_count": 22,
   "id": "6914d031-771e-49b9-ab02-f4c26a685069",
   "metadata": {},
   "outputs": [
    {
     "data": {
      "text/latex": [
       "$\\displaystyle y_{0} + \\frac{\\left(x - x_{0}\\right) \\left(- y_{0} + y_{1}\\right)}{- x_{0} + x_{1}}$"
      ],
      "text/plain": [
       "y_0 + (x - x_0)*(-y_0 + y_1)/(-x_0 + x_1)"
      ]
     },
     "execution_count": 22,
     "metadata": {},
     "output_type": "execute_result"
    }
   ],
   "source": [
    "# By Hand\n",
    "line1 = m * (x - x_0) + y_0\n",
    "line1"
   ]
  },
  {
   "cell_type": "code",
   "execution_count": 23,
   "id": "000cc4dc-f668-41ab-a454-86fd1ddadfac",
   "metadata": {},
   "outputs": [
    {
     "data": {
      "text/latex": [
       "$\\displaystyle 0$"
      ],
      "text/plain": [
       "0"
      ]
     },
     "execution_count": 23,
     "metadata": {},
     "output_type": "execute_result"
    }
   ],
   "source": [
    "(line0 - line1).simplify()"
   ]
  },
  {
   "cell_type": "code",
   "execution_count": 24,
   "id": "aa69c677-33d3-4ffe-9d0e-e9682d81ae85",
   "metadata": {},
   "outputs": [
    {
     "data": {
      "text/latex": [
       "$\\displaystyle y = y_{0} + \\frac{\\left(x - x_{0}\\right) \\left(- y_{0} + y_{1}\\right)}{- x_{0} + x_{1}}$"
      ],
      "text/plain": [
       "Eq(y, y_0 + (x - x_0)*(-y_0 + y_1)/(-x_0 + x_1))"
      ]
     },
     "execution_count": 24,
     "metadata": {},
     "output_type": "execute_result"
    }
   ],
   "source": [
    "# We use\n",
    "sym.Eq(y, m * (x - x_0) + y_0)"
   ]
  }
 ],
 "metadata": {
  "kernelspec": {
   "display_name": "Python 3 (ipykernel)",
   "language": "python",
   "name": "python3"
  },
  "language_info": {
   "codemirror_mode": {
    "name": "ipython",
    "version": 3
   },
   "file_extension": ".py",
   "mimetype": "text/x-python",
   "name": "python",
   "nbconvert_exporter": "python",
   "pygments_lexer": "ipython3",
   "version": "3.10.11"
  }
 },
 "nbformat": 4,
 "nbformat_minor": 5
}
